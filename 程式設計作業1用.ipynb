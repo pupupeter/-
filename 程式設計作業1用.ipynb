{
  "nbformat": 4,
  "nbformat_minor": 0,
  "metadata": {
    "colab": {
      "provenance": [],
      "authorship_tag": "ABX9TyP6oBvZOHq+eABJ8ahrA1Gx",
      "include_colab_link": true
    },
    "kernelspec": {
      "name": "python3",
      "display_name": "Python 3"
    },
    "language_info": {
      "name": "python"
    }
  },
  "cells": [
    {
      "cell_type": "markdown",
      "metadata": {
        "id": "view-in-github",
        "colab_type": "text"
      },
      "source": [
        "<a href=\"https://colab.research.google.com/github/pupupeter/-/blob/main/%E7%A8%8B%E5%BC%8F%E8%A8%AD%E8%A8%88%E4%BD%9C%E6%A5%AD1%E7%94%A8.ipynb\" target=\"_parent\"><img src=\"https://colab.research.google.com/assets/colab-badge.svg\" alt=\"Open In Colab\"/></a>"
      ]
    },
    {
      "cell_type": "markdown",
      "source": [
        "日常支出速算與分攤（作業一）\n",
        "目標：從 Sheet 讀「消費紀錄」→ 計總額/分類小計/AA 分攤 → 寫回 Sheet Summary 分頁。\n",
        "AI 點子（可選）：請模型總結本週花錢習慣與建議（例如「外食過多」）。\n",
        "Sheet 欄位：date, category, item, amount, payer"
      ],
      "metadata": {
        "id": "DjssTjNBYBsx"
      }
    },
    {
      "cell_type": "code",
      "execution_count": null,
      "metadata": {
        "id": "lq7YcVBOXNLz"
      },
      "outputs": [],
      "source": []
    }
  ]
}