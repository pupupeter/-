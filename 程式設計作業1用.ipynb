{
  "nbformat": 4,
  "nbformat_minor": 0,
  "metadata": {
    "colab": {
      "provenance": [],
      "authorship_tag": "ABX9TyMHSNAJRFbrpcS2jsrPIR2V",
      "include_colab_link": true
    },
    "kernelspec": {
      "name": "python3",
      "display_name": "Python 3"
    },
    "language_info": {
      "name": "python"
    }
  },
  "cells": [
    {
      "cell_type": "markdown",
      "metadata": {
        "id": "view-in-github",
        "colab_type": "text"
      },
      "source": [
        "<a href=\"https://colab.research.google.com/github/pupupeter/-/blob/main/%E7%A8%8B%E5%BC%8F%E8%A8%AD%E8%A8%88%E4%BD%9C%E6%A5%AD1%E7%94%A8.ipynb\" target=\"_parent\"><img src=\"https://colab.research.google.com/assets/colab-badge.svg\" alt=\"Open In Colab\"/></a>"
      ]
    },
    {
      "cell_type": "markdown",
      "source": [
        "日常支出速算與分攤（作業一）\n",
        "目標：從 Sheet 讀「消費紀錄」→ 計總額/分類小計/AA 分攤 → 寫回 Sheet Summary 分頁。\n",
        "AI 點子（可選）：請模型總結本週花錢習慣與建議（例如「外食過多」）。\n",
        "Sheet 欄位：date, category, item, amount, payer"
      ],
      "metadata": {
        "id": "DjssTjNBYBsx"
      }
    },
    {
      "cell_type": "code",
      "execution_count": 1,
      "metadata": {
        "id": "lq7YcVBOXNLz"
      },
      "outputs": [],
      "source": [
        "\n",
        "from google.colab import auth\n",
        "auth.authenticate_user()\n",
        "\n",
        "import gspread\n",
        "from google.auth import default\n",
        "creds, _ = default()\n",
        "\n",
        "gc = gspread.authorize(creds)"
      ]
    },
    {
      "cell_type": "code",
      "source": [
        "import pandas as pd\n",
        "# read data and put it in a dataframe\n",
        "# 在 google 工作表載入 gsheets\n",
        "gsheets = gc.open_by_url('https://docs.google.com/spreadsheets/d/103O9aaTYbXgvXsy4fbkxUm8IQl6ea1CI-WG9gheyN7A/edit?usp=sharing')\n",
        ""
      ],
      "metadata": {
        "id": "IGlSUb08YeN9"
      },
      "execution_count": 2,
      "outputs": []
    },
    {
      "cell_type": "code",
      "source": [
        "# 從 gsheets 的 All-whiteboard-device 載入 sheets\n",
        "sheets = gsheets.worksheet('工作表1').get_all_values()\n",
        "# 將 sheets1 資料載入 pd 的 DataFrame 進行分析\n",
        "df = pd.DataFrame(sheets[1:], columns=sheets[0])\n",
        "# 取得最前面的5筆資料\n",
        "df.head()"
      ],
      "metadata": {
        "colab": {
          "base_uri": "https://localhost:8080/",
          "height": 53
        },
        "id": "GONlIXlJYraZ",
        "outputId": "a4a4d816-6932-4b36-9466-816d70f22531"
      },
      "execution_count": 7,
      "outputs": [
        {
          "output_type": "execute_result",
          "data": {
            "text/plain": [
              "Empty DataFrame\n",
              "Columns: [日期, 時間, 姓名, 參加場次]\n",
              "Index: []"
            ],
            "text/html": [
              "\n",
              "  <div id=\"df-f8315b5b-b0ae-4d55-bba4-8344a6340252\" class=\"colab-df-container\">\n",
              "    <div>\n",
              "<style scoped>\n",
              "    .dataframe tbody tr th:only-of-type {\n",
              "        vertical-align: middle;\n",
              "    }\n",
              "\n",
              "    .dataframe tbody tr th {\n",
              "        vertical-align: top;\n",
              "    }\n",
              "\n",
              "    .dataframe thead th {\n",
              "        text-align: right;\n",
              "    }\n",
              "</style>\n",
              "<table border=\"1\" class=\"dataframe\">\n",
              "  <thead>\n",
              "    <tr style=\"text-align: right;\">\n",
              "      <th></th>\n",
              "      <th>日期</th>\n",
              "      <th>時間</th>\n",
              "      <th>姓名</th>\n",
              "      <th>參加場次</th>\n",
              "    </tr>\n",
              "  </thead>\n",
              "  <tbody>\n",
              "  </tbody>\n",
              "</table>\n",
              "</div>\n",
              "    <div class=\"colab-df-buttons\">\n",
              "\n",
              "  <div class=\"colab-df-container\">\n",
              "    <button class=\"colab-df-convert\" onclick=\"convertToInteractive('df-f8315b5b-b0ae-4d55-bba4-8344a6340252')\"\n",
              "            title=\"Convert this dataframe to an interactive table.\"\n",
              "            style=\"display:none;\">\n",
              "\n",
              "  <svg xmlns=\"http://www.w3.org/2000/svg\" height=\"24px\" viewBox=\"0 -960 960 960\">\n",
              "    <path d=\"M120-120v-720h720v720H120Zm60-500h600v-160H180v160Zm220 220h160v-160H400v160Zm0 220h160v-160H400v160ZM180-400h160v-160H180v160Zm440 0h160v-160H620v160ZM180-180h160v-160H180v160Zm440 0h160v-160H620v160Z\"/>\n",
              "  </svg>\n",
              "    </button>\n",
              "\n",
              "  <style>\n",
              "    .colab-df-container {\n",
              "      display:flex;\n",
              "      gap: 12px;\n",
              "    }\n",
              "\n",
              "    .colab-df-convert {\n",
              "      background-color: #E8F0FE;\n",
              "      border: none;\n",
              "      border-radius: 50%;\n",
              "      cursor: pointer;\n",
              "      display: none;\n",
              "      fill: #1967D2;\n",
              "      height: 32px;\n",
              "      padding: 0 0 0 0;\n",
              "      width: 32px;\n",
              "    }\n",
              "\n",
              "    .colab-df-convert:hover {\n",
              "      background-color: #E2EBFA;\n",
              "      box-shadow: 0px 1px 2px rgba(60, 64, 67, 0.3), 0px 1px 3px 1px rgba(60, 64, 67, 0.15);\n",
              "      fill: #174EA6;\n",
              "    }\n",
              "\n",
              "    .colab-df-buttons div {\n",
              "      margin-bottom: 4px;\n",
              "    }\n",
              "\n",
              "    [theme=dark] .colab-df-convert {\n",
              "      background-color: #3B4455;\n",
              "      fill: #D2E3FC;\n",
              "    }\n",
              "\n",
              "    [theme=dark] .colab-df-convert:hover {\n",
              "      background-color: #434B5C;\n",
              "      box-shadow: 0px 1px 3px 1px rgba(0, 0, 0, 0.15);\n",
              "      filter: drop-shadow(0px 1px 2px rgba(0, 0, 0, 0.3));\n",
              "      fill: #FFFFFF;\n",
              "    }\n",
              "  </style>\n",
              "\n",
              "    <script>\n",
              "      const buttonEl =\n",
              "        document.querySelector('#df-f8315b5b-b0ae-4d55-bba4-8344a6340252 button.colab-df-convert');\n",
              "      buttonEl.style.display =\n",
              "        google.colab.kernel.accessAllowed ? 'block' : 'none';\n",
              "\n",
              "      async function convertToInteractive(key) {\n",
              "        const element = document.querySelector('#df-f8315b5b-b0ae-4d55-bba4-8344a6340252');\n",
              "        const dataTable =\n",
              "          await google.colab.kernel.invokeFunction('convertToInteractive',\n",
              "                                                    [key], {});\n",
              "        if (!dataTable) return;\n",
              "\n",
              "        const docLinkHtml = 'Like what you see? Visit the ' +\n",
              "          '<a target=\"_blank\" href=https://colab.research.google.com/notebooks/data_table.ipynb>data table notebook</a>'\n",
              "          + ' to learn more about interactive tables.';\n",
              "        element.innerHTML = '';\n",
              "        dataTable['output_type'] = 'display_data';\n",
              "        await google.colab.output.renderOutput(dataTable, element);\n",
              "        const docLink = document.createElement('div');\n",
              "        docLink.innerHTML = docLinkHtml;\n",
              "        element.appendChild(docLink);\n",
              "      }\n",
              "    </script>\n",
              "  </div>\n",
              "\n",
              "\n",
              "    </div>\n",
              "  </div>\n"
            ],
            "application/vnd.google.colaboratory.intrinsic+json": {
              "type": "dataframe",
              "variable_name": "df",
              "repr_error": "Out of range float values are not JSON compliant: nan"
            }
          },
          "metadata": {},
          "execution_count": 7
        }
      ]
    },
    {
      "cell_type": "code",
      "source": [
        "import datetime\n"
      ],
      "metadata": {
        "id": "vA2w2Rn1Z9hC"
      },
      "execution_count": 5,
      "outputs": []
    },
    {
      "cell_type": "code",
      "source": [
        "\n",
        "# 提示使用者輸入各項資訊\n",
        "name = input(\"請輸入您的姓名：\")\n",
        "event = input(\"請輸入您參加的場次：\")\n",
        "date_str = input(\"請輸入參加日期 (格式：YYYY-MM-DD)：\")\n",
        "time_str = input(\"請輸入參加時間 (格式：HH:MM)：\")\n",
        "\n",
        "# 將字串轉換為日期和時間物件\n",
        "try:\n",
        "    date_obj = datetime.datetime.strptime(date_str, \"%Y-%m-%d\").date()\n",
        "    time_obj = datetime.datetime.strptime(time_str, \"%H:%M\").time()\n",
        "\n",
        "    # 建立一個字典來儲存所有資訊\n",
        "    attendee_info = {\n",
        "        \"姓名\": name,\n",
        "        \"參加場次\": event,\n",
        "        \"日期\": date_obj,\n",
        "        \"時間\": time_obj\n",
        "    }\n",
        "\n",
        "    # 顯示輸入結果\n",
        "    print(\"\\n--- 您的輸入資訊 ---\")\n",
        "    print(f\"姓名：{attendee_info['姓名']}\")\n",
        "    print(f\"參加場次：{attendee_info['參加場次']}\")\n",
        "    print(f\"日期：{attendee_info['日期']}\")\n",
        "    print(f\"時間：{attendee_info['時間']}\")\n",
        "\n",
        "except ValueError:\n",
        "    print(\"輸入的日期或時間格式不正確，請重新執行並依照指定格式輸入。\")"
      ],
      "metadata": {
        "colab": {
          "base_uri": "https://localhost:8080/"
        },
        "id": "WlcbyYxsZVBx",
        "outputId": "10a102ec-3787-48ac-bcac-d3766e453f00"
      },
      "execution_count": 8,
      "outputs": [
        {
          "output_type": "stream",
          "name": "stdout",
          "text": [
            "請輸入您的姓名：符傳敏維\n",
            "請輸入您參加的場次：9/4（四）「跨域 × 未來」：AI時代的新職場思維與自我定位, 9/11（四）體驗禪 meditation practice, 9/18（四）時間管理x服務利他, 9/25（四）溝通表達x生命靈數xSEL\n",
            "請輸入參加日期 (格式：YYYY-MM-DD)：2025-09-04\n",
            "請輸入參加時間 (格式：HH:MM)：19:00\n",
            "\n",
            "--- 您的輸入資訊 ---\n",
            "姓名：符傳敏維\n",
            "參加場次：9/4（四）「跨域 × 未來」：AI時代的新職場思維與自我定位, 9/11（四）體驗禪 meditation practice, 9/18（四）時間管理x服務利他, 9/25（四）溝通表達x生命靈數xSEL\n",
            "日期：2025-09-04\n",
            "時間：19:00:00\n"
          ]
        }
      ]
    },
    {
      "cell_type": "code",
      "source": [
        "event"
      ],
      "metadata": {
        "colab": {
          "base_uri": "https://localhost:8080/",
          "height": 35
        },
        "id": "WJlSFyLGaw8Q",
        "outputId": "f8968f64-1c87-424e-c904-26517655c591"
      },
      "execution_count": 10,
      "outputs": [
        {
          "output_type": "execute_result",
          "data": {
            "text/plain": [
              "'9/4（四）「跨域 × 未來」：AI時代的新職場思維與自我定位, 9/11（四）體驗禪 meditation practice, 9/18（四）時間管理x服務利他, 9/25（四）溝通表達x生命靈數xSEL'"
            ],
            "application/vnd.google.colaboratory.intrinsic+json": {
              "type": "string"
            }
          },
          "metadata": {},
          "execution_count": 10
        }
      ]
    },
    {
      "cell_type": "code",
      "source": [],
      "metadata": {
        "id": "aY3Fb6wOaw_V"
      },
      "execution_count": null,
      "outputs": []
    },
    {
      "cell_type": "code",
      "source": [
        "name"
      ],
      "metadata": {
        "colab": {
          "base_uri": "https://localhost:8080/",
          "height": 35
        },
        "id": "eQKaQ639aFIo",
        "outputId": "9e07d9c7-e9c4-4e17-8174-0891b5f0a71b"
      },
      "execution_count": 9,
      "outputs": [
        {
          "output_type": "execute_result",
          "data": {
            "text/plain": [
              "'符傳敏維'"
            ],
            "application/vnd.google.colaboratory.intrinsic+json": {
              "type": "string"
            }
          },
          "metadata": {},
          "execution_count": 9
        }
      ]
    },
    {
      "cell_type": "code",
      "source": [
        "date_str"
      ],
      "metadata": {
        "colab": {
          "base_uri": "https://localhost:8080/",
          "height": 35
        },
        "id": "VXSecN15awOp",
        "outputId": "a94ebaaf-c0c7-4ebc-c9ef-1ae771e52561"
      },
      "execution_count": 11,
      "outputs": [
        {
          "output_type": "execute_result",
          "data": {
            "text/plain": [
              "'2025-09-04'"
            ],
            "application/vnd.google.colaboratory.intrinsic+json": {
              "type": "string"
            }
          },
          "metadata": {},
          "execution_count": 11
        }
      ]
    },
    {
      "cell_type": "code",
      "source": [
        "time_str"
      ],
      "metadata": {
        "colab": {
          "base_uri": "https://localhost:8080/",
          "height": 35
        },
        "id": "otiC84noaz4h",
        "outputId": "9565619d-2d1d-4189-af6d-dbd3686383ee"
      },
      "execution_count": 12,
      "outputs": [
        {
          "output_type": "execute_result",
          "data": {
            "text/plain": [
              "'19:00'"
            ],
            "application/vnd.google.colaboratory.intrinsic+json": {
              "type": "string"
            }
          },
          "metadata": {},
          "execution_count": 12
        }
      ]
    },
    {
      "cell_type": "code",
      "source": [
        "import datetime\n",
        "import pandas as pd\n",
        "import gspread\n",
        "\n",
        "# 已經完成 Google 驗證後，gc 是 gspread.client.Client\n",
        "gsheets = gc.open_by_url('https://docs.google.com/spreadsheets/d/103O9aaTYbXgvXsy4fbkxUm8IQl6ea1CI-WG9gheyN7A/edit?usp=sharing')\n",
        "worksheet = gsheets.sheet1   # 取第一個工作表，你也可以用名稱選取\n",
        "\n",
        "# 提示使用者輸入各項資訊\n",
        "name = input(\"請輸入您的姓名：\")\n",
        "event = input(\"請輸入您參加的場次：\")\n",
        "date_str = input(\"請輸入參加日期 (格式：YYYY-MM-DD)：\")\n",
        "time_str = input(\"請輸入參加時間 (格式：HH:MM)：\")\n",
        "\n",
        "try:\n",
        "    # 驗證日期與時間\n",
        "    date_obj = datetime.datetime.strptime(date_str, \"%Y-%m-%d\").date()\n",
        "    time_obj = datetime.datetime.strptime(time_str, \"%H:%M\").time()\n",
        "\n",
        "    # 整理一筆資料，先做成 DataFrame\n",
        "    new_row = pd.DataFrame([{\n",
        "        \"姓名\": name,\n",
        "        \"參加場次\": event,\n",
        "        \"日期\": str(date_obj),\n",
        "        \"時間\": str(time_obj)\n",
        "    }])\n",
        "\n",
        "    # 讀取現有資料\n",
        "    existing = worksheet.get_all_records()\n",
        "    df = pd.DataFrame(existing)\n",
        "\n",
        "    # 如果 Google Sheet 是空的，就直接用 new_row\n",
        "    if df.empty:\n",
        "        df = new_row\n",
        "    else:\n",
        "        df = pd.concat([df, new_row], ignore_index=True)\n",
        "\n",
        "    # 清空後把更新後的 df 寫回 Google Sheet\n",
        "    worksheet.clear()\n",
        "    worksheet.update([df.columns.values.tolist()] + df.values.tolist())\n",
        "\n",
        "    print(\"✅ 已成功將您的資料新增到 Google 試算表！\")\n",
        "\n",
        "except ValueError:\n",
        "    print(\"輸入的日期或時間格式不正確，請重新執行並依照指定格式輸入。\")\n"
      ],
      "metadata": {
        "colab": {
          "base_uri": "https://localhost:8080/"
        },
        "id": "z7WVY8v9a1_p",
        "outputId": "4d6bca60-80d3-4e9b-a94d-b6858f2cae94"
      },
      "execution_count": 14,
      "outputs": [
        {
          "output_type": "stream",
          "name": "stdout",
          "text": [
            "請輸入您的姓名：符椽閔微\n",
            "請輸入您參加的場次：9/4（四）「跨域 × 未來」：AI時代的新職場思維與自我定位, 9/11（四）體驗禪 meditation practice, 9/18（四）時間管理x服務利他, 9/25（四）溝通表達x生命靈數xSEL\n",
            "請輸入參加日期 (格式：YYYY-MM-DD)：2025-09-04\n",
            "請輸入參加時間 (格式：HH:MM)：19:00\n",
            "✅ 已成功將您的資料新增到 Google 試算表！\n"
          ]
        }
      ]
    }
  ]
}