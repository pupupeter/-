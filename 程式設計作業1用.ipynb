{
  "nbformat": 4,
  "nbformat_minor": 0,
  "metadata": {
    "colab": {
      "provenance": [],
      "authorship_tag": "ABX9TyO26eUO08QBfeRa+1VMn6HZ",
      "include_colab_link": true
    },
    "kernelspec": {
      "name": "python3",
      "display_name": "Python 3"
    },
    "language_info": {
      "name": "python"
    }
  },
  "cells": [
    {
      "cell_type": "markdown",
      "metadata": {
        "id": "view-in-github",
        "colab_type": "text"
      },
      "source": [
        "<a href=\"https://colab.research.google.com/github/pupupeter/-/blob/main/%E7%A8%8B%E5%BC%8F%E8%A8%AD%E8%A8%88%E4%BD%9C%E6%A5%AD1%E7%94%A8.ipynb\" target=\"_parent\"><img src=\"https://colab.research.google.com/assets/colab-badge.svg\" alt=\"Open In Colab\"/></a>"
      ]
    },
    {
      "cell_type": "markdown",
      "source": [
        "日常支出速算與分攤（作業一）\n",
        "目標：從 Sheet 讀「消費紀錄」→ 計總額/分類小計/AA 分攤 → 寫回 Sheet Summary 分頁。\n",
        "AI 點子（可選）：請模型總結本週花錢習慣與建議（例如「外食過多」）。\n",
        "Sheet 欄位：date, category, item, amount, payer"
      ],
      "metadata": {
        "id": "DjssTjNBYBsx"
      }
    },
    {
      "cell_type": "code",
      "execution_count": 2,
      "metadata": {
        "id": "lq7YcVBOXNLz"
      },
      "outputs": [],
      "source": [
        "\n",
        "from google.colab import auth\n",
        "auth.authenticate_user()\n",
        "\n",
        "import gspread\n",
        "from google.auth import default\n",
        "creds, _ = default()\n",
        "\n",
        "gc = gspread.authorize(creds)"
      ]
    },
    {
      "cell_type": "code",
      "source": [
        "import pandas as pd\n",
        "# read data and put it in a dataframe\n",
        "# 在 google 工作表載入 gsheets\n",
        "gsheets = gc.open_by_url('https://docs.google.com/spreadsheets/d/103O9aaTYbXgvXsy4fbkxUm8IQl6ea1CI-WG9gheyN7A/edit?usp=sharing')\n"
      ],
      "metadata": {
        "id": "IGlSUb08YeN9"
      },
      "execution_count": 3,
      "outputs": []
    },
    {
      "cell_type": "code",
      "source": [
        "# 從 gsheets 的 All-whiteboard-device 載入 sheets\n",
        "sheets = gsheets.worksheet('工作表1').get_all_values()\n",
        "# 將 sheets1 資料載入 pd 的 DataFrame 進行分析\n",
        "df = pd.DataFrame(sheets[1:], columns=sheets[0])\n",
        "# 取得最前面的5筆資料\n",
        "df.head()"
      ],
      "metadata": {
        "colab": {
          "base_uri": "https://localhost:8080/",
          "height": 53
        },
        "id": "GONlIXlJYraZ",
        "outputId": "a4a4d816-6932-4b36-9466-816d70f22531"
      },
      "execution_count": null,
      "outputs": [
        {
          "output_type": "execute_result",
          "data": {
            "text/plain": [
              "Empty DataFrame\n",
              "Columns: [日期, 時間, 姓名, 參加場次]\n",
              "Index: []"
            ],
            "text/html": [
              "\n",
              "  <div id=\"df-f8315b5b-b0ae-4d55-bba4-8344a6340252\" class=\"colab-df-container\">\n",
              "    <div>\n",
              "<style scoped>\n",
              "    .dataframe tbody tr th:only-of-type {\n",
              "        vertical-align: middle;\n",
              "    }\n",
              "\n",
              "    .dataframe tbody tr th {\n",
              "        vertical-align: top;\n",
              "    }\n",
              "\n",
              "    .dataframe thead th {\n",
              "        text-align: right;\n",
              "    }\n",
              "</style>\n",
              "<table border=\"1\" class=\"dataframe\">\n",
              "  <thead>\n",
              "    <tr style=\"text-align: right;\">\n",
              "      <th></th>\n",
              "      <th>日期</th>\n",
              "      <th>時間</th>\n",
              "      <th>姓名</th>\n",
              "      <th>參加場次</th>\n",
              "    </tr>\n",
              "  </thead>\n",
              "  <tbody>\n",
              "  </tbody>\n",
              "</table>\n",
              "</div>\n",
              "    <div class=\"colab-df-buttons\">\n",
              "\n",
              "  <div class=\"colab-df-container\">\n",
              "    <button class=\"colab-df-convert\" onclick=\"convertToInteractive('df-f8315b5b-b0ae-4d55-bba4-8344a6340252')\"\n",
              "            title=\"Convert this dataframe to an interactive table.\"\n",
              "            style=\"display:none;\">\n",
              "\n",
              "  <svg xmlns=\"http://www.w3.org/2000/svg\" height=\"24px\" viewBox=\"0 -960 960 960\">\n",
              "    <path d=\"M120-120v-720h720v720H120Zm60-500h600v-160H180v160Zm220 220h160v-160H400v160Zm0 220h160v-160H400v160ZM180-400h160v-160H180v160Zm440 0h160v-160H620v160ZM180-180h160v-160H180v160Zm440 0h160v-160H620v160Z\"/>\n",
              "  </svg>\n",
              "    </button>\n",
              "\n",
              "  <style>\n",
              "    .colab-df-container {\n",
              "      display:flex;\n",
              "      gap: 12px;\n",
              "    }\n",
              "\n",
              "    .colab-df-convert {\n",
              "      background-color: #E8F0FE;\n",
              "      border: none;\n",
              "      border-radius: 50%;\n",
              "      cursor: pointer;\n",
              "      display: none;\n",
              "      fill: #1967D2;\n",
              "      height: 32px;\n",
              "      padding: 0 0 0 0;\n",
              "      width: 32px;\n",
              "    }\n",
              "\n",
              "    .colab-df-convert:hover {\n",
              "      background-color: #E2EBFA;\n",
              "      box-shadow: 0px 1px 2px rgba(60, 64, 67, 0.3), 0px 1px 3px 1px rgba(60, 64, 67, 0.15);\n",
              "      fill: #174EA6;\n",
              "    }\n",
              "\n",
              "    .colab-df-buttons div {\n",
              "      margin-bottom: 4px;\n",
              "    }\n",
              "\n",
              "    [theme=dark] .colab-df-convert {\n",
              "      background-color: #3B4455;\n",
              "      fill: #D2E3FC;\n",
              "    }\n",
              "\n",
              "    [theme=dark] .colab-df-convert:hover {\n",
              "      background-color: #434B5C;\n",
              "      box-shadow: 0px 1px 3px 1px rgba(0, 0, 0, 0.15);\n",
              "      filter: drop-shadow(0px 1px 2px rgba(0, 0, 0, 0.3));\n",
              "      fill: #FFFFFF;\n",
              "    }\n",
              "  </style>\n",
              "\n",
              "    <script>\n",
              "      const buttonEl =\n",
              "        document.querySelector('#df-f8315b5b-b0ae-4d55-bba4-8344a6340252 button.colab-df-convert');\n",
              "      buttonEl.style.display =\n",
              "        google.colab.kernel.accessAllowed ? 'block' : 'none';\n",
              "\n",
              "      async function convertToInteractive(key) {\n",
              "        const element = document.querySelector('#df-f8315b5b-b0ae-4d55-bba4-8344a6340252');\n",
              "        const dataTable =\n",
              "          await google.colab.kernel.invokeFunction('convertToInteractive',\n",
              "                                                    [key], {});\n",
              "        if (!dataTable) return;\n",
              "\n",
              "        const docLinkHtml = 'Like what you see? Visit the ' +\n",
              "          '<a target=\"_blank\" href=https://colab.research.google.com/notebooks/data_table.ipynb>data table notebook</a>'\n",
              "          + ' to learn more about interactive tables.';\n",
              "        element.innerHTML = '';\n",
              "        dataTable['output_type'] = 'display_data';\n",
              "        await google.colab.output.renderOutput(dataTable, element);\n",
              "        const docLink = document.createElement('div');\n",
              "        docLink.innerHTML = docLinkHtml;\n",
              "        element.appendChild(docLink);\n",
              "      }\n",
              "    </script>\n",
              "  </div>\n",
              "\n",
              "\n",
              "    </div>\n",
              "  </div>\n"
            ],
            "application/vnd.google.colaboratory.intrinsic+json": {
              "type": "dataframe",
              "variable_name": "df",
              "repr_error": "Out of range float values are not JSON compliant: nan"
            }
          },
          "metadata": {},
          "execution_count": 7
        }
      ]
    },
    {
      "cell_type": "code",
      "source": [
        "import datetime\n"
      ],
      "metadata": {
        "id": "vA2w2Rn1Z9hC"
      },
      "execution_count": null,
      "outputs": []
    },
    {
      "cell_type": "code",
      "source": [
        "\n",
        "# 提示使用者輸入各項資訊\n",
        "name = input(\"請輸入您的姓名：\")\n",
        "event = input(\"請輸入您參加的場次：\")\n",
        "date_str = input(\"請輸入參加日期 (格式：YYYY-MM-DD)：\")\n",
        "time_str = input(\"請輸入參加時間 (格式：HH:MM)：\")\n",
        "\n",
        "# 將字串轉換為日期和時間物件\n",
        "try:\n",
        "    date_obj = datetime.datetime.strptime(date_str, \"%Y-%m-%d\").date()\n",
        "    time_obj = datetime.datetime.strptime(time_str, \"%H:%M\").time()\n",
        "\n",
        "    # 建立一個字典來儲存所有資訊\n",
        "    attendee_info = {\n",
        "        \"姓名\": name,\n",
        "        \"參加場次\": event,\n",
        "        \"日期\": date_obj,\n",
        "        \"時間\": time_obj\n",
        "    }\n",
        "\n",
        "    # 顯示輸入結果\n",
        "    print(\"\\n--- 您的輸入資訊 ---\")\n",
        "    print(f\"姓名：{attendee_info['姓名']}\")\n",
        "    print(f\"參加場次：{attendee_info['參加場次']}\")\n",
        "    print(f\"日期：{attendee_info['日期']}\")\n",
        "    print(f\"時間：{attendee_info['時間']}\")\n",
        "\n",
        "except ValueError:\n",
        "    print(\"輸入的日期或時間格式不正確，請重新執行並依照指定格式輸入。\")"
      ],
      "metadata": {
        "colab": {
          "base_uri": "https://localhost:8080/"
        },
        "id": "WlcbyYxsZVBx",
        "outputId": "10a102ec-3787-48ac-bcac-d3766e453f00"
      },
      "execution_count": null,
      "outputs": [
        {
          "output_type": "stream",
          "name": "stdout",
          "text": [
            "請輸入您的姓名：符傳敏維\n",
            "請輸入您參加的場次：9/4（四）「跨域 × 未來」：AI時代的新職場思維與自我定位, 9/11（四）體驗禪 meditation practice, 9/18（四）時間管理x服務利他, 9/25（四）溝通表達x生命靈數xSEL\n",
            "請輸入參加日期 (格式：YYYY-MM-DD)：2025-09-04\n",
            "請輸入參加時間 (格式：HH:MM)：19:00\n",
            "\n",
            "--- 您的輸入資訊 ---\n",
            "姓名：符傳敏維\n",
            "參加場次：9/4（四）「跨域 × 未來」：AI時代的新職場思維與自我定位, 9/11（四）體驗禪 meditation practice, 9/18（四）時間管理x服務利他, 9/25（四）溝通表達x生命靈數xSEL\n",
            "日期：2025-09-04\n",
            "時間：19:00:00\n"
          ]
        }
      ]
    },
    {
      "cell_type": "code",
      "source": [
        "event"
      ],
      "metadata": {
        "colab": {
          "base_uri": "https://localhost:8080/",
          "height": 35
        },
        "id": "WJlSFyLGaw8Q",
        "outputId": "f8968f64-1c87-424e-c904-26517655c591"
      },
      "execution_count": null,
      "outputs": [
        {
          "output_type": "execute_result",
          "data": {
            "text/plain": [
              "'9/4（四）「跨域 × 未來」：AI時代的新職場思維與自我定位, 9/11（四）體驗禪 meditation practice, 9/18（四）時間管理x服務利他, 9/25（四）溝通表達x生命靈數xSEL'"
            ],
            "application/vnd.google.colaboratory.intrinsic+json": {
              "type": "string"
            }
          },
          "metadata": {},
          "execution_count": 10
        }
      ]
    },
    {
      "cell_type": "code",
      "source": [],
      "metadata": {
        "id": "aY3Fb6wOaw_V"
      },
      "execution_count": null,
      "outputs": []
    },
    {
      "cell_type": "code",
      "source": [
        "name"
      ],
      "metadata": {
        "colab": {
          "base_uri": "https://localhost:8080/",
          "height": 35
        },
        "id": "eQKaQ639aFIo",
        "outputId": "9e07d9c7-e9c4-4e17-8174-0891b5f0a71b"
      },
      "execution_count": null,
      "outputs": [
        {
          "output_type": "execute_result",
          "data": {
            "text/plain": [
              "'符傳敏維'"
            ],
            "application/vnd.google.colaboratory.intrinsic+json": {
              "type": "string"
            }
          },
          "metadata": {},
          "execution_count": 9
        }
      ]
    },
    {
      "cell_type": "code",
      "source": [
        "date_str"
      ],
      "metadata": {
        "colab": {
          "base_uri": "https://localhost:8080/",
          "height": 35
        },
        "id": "VXSecN15awOp",
        "outputId": "a94ebaaf-c0c7-4ebc-c9ef-1ae771e52561"
      },
      "execution_count": null,
      "outputs": [
        {
          "output_type": "execute_result",
          "data": {
            "text/plain": [
              "'2025-09-04'"
            ],
            "application/vnd.google.colaboratory.intrinsic+json": {
              "type": "string"
            }
          },
          "metadata": {},
          "execution_count": 11
        }
      ]
    },
    {
      "cell_type": "code",
      "source": [
        "time_str"
      ],
      "metadata": {
        "colab": {
          "base_uri": "https://localhost:8080/",
          "height": 35
        },
        "id": "otiC84noaz4h",
        "outputId": "9565619d-2d1d-4189-af6d-dbd3686383ee"
      },
      "execution_count": null,
      "outputs": [
        {
          "output_type": "execute_result",
          "data": {
            "text/plain": [
              "'19:00'"
            ],
            "application/vnd.google.colaboratory.intrinsic+json": {
              "type": "string"
            }
          },
          "metadata": {},
          "execution_count": 12
        }
      ]
    },
    {
      "cell_type": "code",
      "source": [
        "import datetime\n",
        "import pandas as pd\n",
        "import gspread\n",
        "\n",
        "# 已經完成 Google 驗證後，gc 是 gspread.client.Client\n",
        "gsheets = gc.open_by_url('https://docs.google.com/spreadsheets/d/103O9aaTYbXgvXsy4fbkxUm8IQl6ea1CI-WG9gheyN7A/edit?usp=sharing')\n",
        "worksheet = gsheets.sheet1   # 取第一個工作表，你也可以用名稱選取\n",
        "\n",
        "# 提示使用者輸入各項資訊\n",
        "name = input(\"請輸入您的姓名：\")\n",
        "event = input(\"請輸入您參加的場次：\")\n",
        "date_str = input(\"請輸入參加日期 (格式：YYYY-MM-DD)：\")\n",
        "time_str = input(\"請輸入參加時間 (格式：HH:MM)：\")\n",
        "\n",
        "try:\n",
        "    # 驗證日期與時間\n",
        "    date_obj = datetime.datetime.strptime(date_str, \"%Y-%m-%d\").date()\n",
        "    time_obj = datetime.datetime.strptime(time_str, \"%H:%M\").time()\n",
        "\n",
        "    # 整理一筆資料，先做成 DataFrame\n",
        "    new_row = pd.DataFrame([{\n",
        "        \"姓名\": name,\n",
        "        \"參加場次\": event,\n",
        "        \"日期\": str(date_obj),\n",
        "        \"時間\": str(time_obj)\n",
        "    }])\n",
        "\n",
        "    # 讀取現有資料\n",
        "    existing = worksheet.get_all_records()\n",
        "    df = pd.DataFrame(existing)\n",
        "\n",
        "    # 如果 Google Sheet 是空的，就直接用 new_row\n",
        "    if df.empty:\n",
        "        df = new_row\n",
        "    else:\n",
        "        df = pd.concat([df, new_row], ignore_index=True)\n",
        "\n",
        "    # 清空後把更新後的 df 寫回 Google Sheet\n",
        "    worksheet.clear()\n",
        "    worksheet.update([df.columns.values.tolist()] + df.values.tolist())\n",
        "\n",
        "    print(\"✅ 已成功將您的資料新增到 Google 試算表！\")\n",
        "\n",
        "except ValueError:\n",
        "    print(\"輸入的日期或時間格式不正確，請重新執行並依照指定格式輸入。\")\n"
      ],
      "metadata": {
        "colab": {
          "base_uri": "https://localhost:8080/"
        },
        "id": "z7WVY8v9a1_p",
        "outputId": "4d6bca60-80d3-4e9b-a94d-b6858f2cae94"
      },
      "execution_count": null,
      "outputs": [
        {
          "output_type": "stream",
          "name": "stdout",
          "text": [
            "請輸入您的姓名：符椽閔微\n",
            "請輸入您參加的場次：9/4（四）「跨域 × 未來」：AI時代的新職場思維與自我定位, 9/11（四）體驗禪 meditation practice, 9/18（四）時間管理x服務利他, 9/25（四）溝通表達x生命靈數xSEL\n",
            "請輸入參加日期 (格式：YYYY-MM-DD)：2025-09-04\n",
            "請輸入參加時間 (格式：HH:MM)：19:00\n",
            "✅ 已成功將您的資料新增到 Google 試算表！\n"
          ]
        }
      ]
    },
    {
      "cell_type": "code",
      "source": [
        "import datetime\n",
        "import pandas as pd\n",
        "import gspread\n",
        "import gradio as gr\n",
        "from google.oauth2.service_account import Credentials\n",
        "\n",
        "\n",
        "gsheets = gc.open_by_url(\n",
        "    \"https://docs.google.com/spreadsheets/d/103O9aaTYbXgvXsy4fbkxUm8IQl6ea1CI-WG9gheyN7A/edit?usp=sharing\"\n",
        ")\n",
        "worksheet = gsheets.sheet1\n",
        "\n",
        "\n",
        "# ====== 核心邏輯，封裝成函式 ======\n",
        "def add_record(name, event, date_str, time_str):\n",
        "    try:\n",
        "        # 驗證日期與時間\n",
        "        date_obj = datetime.datetime.strptime(date_str, \"%Y-%m-%d\").date()\n",
        "        time_obj = datetime.datetime.strptime(time_str, \"%H:%M\").time()\n",
        "\n",
        "        # 整理新資料\n",
        "        new_row = pd.DataFrame([{\n",
        "            \"姓名\": name,\n",
        "            \"參加場次\": event,\n",
        "            \"日期\": str(date_obj),\n",
        "            \"時間\": str(time_obj)\n",
        "        }])\n",
        "\n",
        "        existing = worksheet.get_all_records()\n",
        "        df = pd.DataFrame(existing)\n",
        "\n",
        "        # 如果表單是空的就直接寫入\n",
        "        if df.empty:\n",
        "            df = new_row\n",
        "        else:\n",
        "            df = pd.concat([df, new_row], ignore_index=True)\n",
        "\n",
        "        worksheet.clear()\n",
        "        worksheet.update([df.columns.values.tolist()] + df.values.tolist())\n",
        "\n",
        "        return \"✅ 已成功將您的資料新增到 Google 試算表！\"\n",
        "    except ValueError:\n",
        "        return \"❌ 日期或時間格式錯誤，請輸入 YYYY-MM-DD 與 HH:MM\"\n",
        "\n",
        "\n",
        "# ====== Gradio 介面 ======\n",
        "with gr.Blocks() as demo:\n",
        "    gr.Markdown(\"## 報名登記\")\n",
        "    with gr.Row():\n",
        "        name = gr.Textbox(label=\"姓名\")\n",
        "        event = gr.Textbox(label=\"參加場次\")\n",
        "    with gr.Row():\n",
        "        date_str = gr.Textbox(label=\"日期 (YYYY-MM-DD)\")\n",
        "        time_str = gr.Textbox(label=\"時間 (HH:MM)\")\n",
        "\n",
        "    submit_btn = gr.Button(\"送出\")\n",
        "    result = gr.Textbox(label=\"結果\")\n",
        "\n",
        "    submit_btn.click(\n",
        "        add_record,\n",
        "        inputs=[name, event, date_str, time_str],\n",
        "        outputs=result\n",
        "    )\n",
        "\n",
        "demo.launch()"
      ],
      "metadata": {
        "colab": {
          "base_uri": "https://localhost:8080/",
          "height": 626
        },
        "id": "hPltFq0xZRWW",
        "outputId": "fb9c339d-826b-4e73-8647-d18f247827e6"
      },
      "execution_count": 4,
      "outputs": [
        {
          "output_type": "stream",
          "name": "stdout",
          "text": [
            "It looks like you are running Gradio on a hosted Jupyter notebook, which requires `share=True`. Automatically setting `share=True` (you can turn this off by setting `share=False` in `launch()` explicitly).\n",
            "\n",
            "Colab notebook detected. To show errors in colab notebook, set debug=True in launch()\n",
            "* Running on public URL: https://0756a700a25c72ad60.gradio.live\n",
            "\n",
            "This share link expires in 1 week. For free permanent hosting and GPU upgrades, run `gradio deploy` from the terminal in the working directory to deploy to Hugging Face Spaces (https://huggingface.co/spaces)\n"
          ]
        },
        {
          "output_type": "display_data",
          "data": {
            "text/plain": [
              "<IPython.core.display.HTML object>"
            ],
            "text/html": [
              "<div><iframe src=\"https://0756a700a25c72ad60.gradio.live\" width=\"100%\" height=\"500\" allow=\"autoplay; camera; microphone; clipboard-read; clipboard-write;\" frameborder=\"0\" allowfullscreen></iframe></div>"
            ]
          },
          "metadata": {}
        },
        {
          "output_type": "execute_result",
          "data": {
            "text/plain": []
          },
          "metadata": {},
          "execution_count": 4
        }
      ]
    },
    {
      "cell_type": "code",
      "source": [
        "pip install reportlab"
      ],
      "metadata": {
        "id": "_M_xrESndNzM",
        "outputId": "2bfd68da-b87c-4c29-de87-cb2aa1be45a7",
        "colab": {
          "base_uri": "https://localhost:8080/"
        }
      },
      "execution_count": 6,
      "outputs": [
        {
          "output_type": "stream",
          "name": "stdout",
          "text": [
            "Collecting reportlab\n",
            "  Downloading reportlab-4.4.3-py3-none-any.whl.metadata (1.7 kB)\n",
            "Requirement already satisfied: pillow>=9.0.0 in /usr/local/lib/python3.12/dist-packages (from reportlab) (11.3.0)\n",
            "Requirement already satisfied: charset-normalizer in /usr/local/lib/python3.12/dist-packages (from reportlab) (3.4.3)\n",
            "Downloading reportlab-4.4.3-py3-none-any.whl (2.0 MB)\n",
            "\u001b[2K   \u001b[90m━━━━━━━━━━━━━━━━━━━━━━━━━━━━━━━━━━━━━━━━\u001b[0m \u001b[32m2.0/2.0 MB\u001b[0m \u001b[31m28.4 MB/s\u001b[0m eta \u001b[36m0:00:00\u001b[0m\n",
            "\u001b[?25hInstalling collected packages: reportlab\n",
            "Successfully installed reportlab-4.4.3\n"
          ]
        }
      ]
    },
    {
      "cell_type": "code",
      "source": [
        "import datetime\n",
        "import pandas as pd\n",
        "import gspread\n",
        "import gradio as gr\n",
        "from google.oauth2.service_account import Credentials\n",
        "from reportlab.platypus import SimpleDocTemplate, Table, TableStyle, Paragraph\n",
        "from reportlab.lib.pagesizes import A4\n",
        "from reportlab.lib import colors\n",
        "from reportlab.lib.styles import getSampleStyleSheet\n",
        "from reportlab.pdfbase import pdfmetrics\n",
        "from reportlab.pdfbase.ttfonts import TTFont\n",
        "import os\n",
        "\n",
        "# ====== Google Sheets 設定 ======\n",
        "# ⚠️ 這裡假設你已經建立好 gspread 的 client 物件 (gc)\n",
        "gsheets = gc.open_by_url(\n",
        "    \"https://docs.google.com/spreadsheets/d/103O9aaTYbXgvXsy4fbkxUm8IQl6ea1CI-WG9gheyN7A/edit?usp=sharing\"\n",
        ")\n",
        "worksheet = gsheets.sheet1\n",
        "\n",
        "\n",
        "# ====== 核心邏輯 ======\n",
        "def add_record(name, event, date_str, time_str):\n",
        "    try:\n",
        "        date_obj = datetime.datetime.strptime(date_str, \"%Y-%m-%d\").date()\n",
        "        time_obj = datetime.datetime.strptime(time_str, \"%H:%M\").time()\n",
        "\n",
        "        new_row = pd.DataFrame([{\n",
        "            \"姓名\": name,\n",
        "            \"參加場次\": event,\n",
        "            \"日期\": str(date_obj),\n",
        "            \"時間\": str(time_obj)\n",
        "        }])\n",
        "\n",
        "        existing = worksheet.get_all_records()\n",
        "        df = pd.DataFrame(existing)\n",
        "\n",
        "        if df.empty:\n",
        "            df = new_row\n",
        "        else:\n",
        "            df = pd.concat([df, new_row], ignore_index=True)\n",
        "\n",
        "        worksheet.clear()\n",
        "        worksheet.update([df.columns.values.tolist()] + df.values.tolist())\n",
        "\n",
        "        return \"✅ 已成功將您的資料新增到 Google 試算表！\"\n",
        "    except ValueError:\n",
        "        return \"❌ 日期或時間格式錯誤，請輸入 YYYY-MM-DD 與 HH:MM\"\n",
        "\n",
        "\n",
        "def read_all():\n",
        "    \"\"\"讀取全部資料\"\"\"\n",
        "    data = worksheet.get_all_records()\n",
        "    if not data:\n",
        "        return pd.DataFrame(columns=[\"姓名\", \"參加場次\", \"日期\", \"時間\"])\n",
        "    return pd.DataFrame(data)\n",
        "\n",
        "\n",
        "\n",
        "\n",
        "\n",
        "# ====== Gradio 介面 ======\n",
        "with gr.Blocks() as demo:\n",
        "    gr.Markdown(\"## 報名登記\")\n",
        "\n",
        "    with gr.Row():\n",
        "        name = gr.Textbox(label=\"姓名\")\n",
        "        event = gr.Textbox(label=\"參加場次\")\n",
        "    with gr.Row():\n",
        "        date_str = gr.Textbox(label=\"日期 (YYYY-MM-DD)\")\n",
        "        time_str = gr.Textbox(label=\"時間 (HH:MM)\")\n",
        "\n",
        "    submit_btn = gr.Button(\"送出\")\n",
        "    result = gr.Textbox(label=\"結果\")\n",
        "\n",
        "    # 新增「讀取全部」按鈕\n",
        "    read_btn = gr.Button(\"📄 讀取全部\")\n",
        "    table_out = gr.Dataframe(label=\"目前資料\", interactive=False)\n",
        "\n",
        "\n",
        "    submit_btn.click(add_record, inputs=[name, event, date_str, time_str], outputs=result)\n",
        "    read_btn.click(read_all, outputs=table_out)\n",
        "\n",
        "\n",
        "demo.launch()\n"
      ],
      "metadata": {
        "id": "huyaaFDjdKrG",
        "outputId": "15df05d6-7a45-4d62-86f1-b6beffe42970",
        "colab": {
          "base_uri": "https://localhost:8080/",
          "height": 626
        }
      },
      "execution_count": 11,
      "outputs": [
        {
          "output_type": "stream",
          "name": "stdout",
          "text": [
            "It looks like you are running Gradio on a hosted Jupyter notebook, which requires `share=True`. Automatically setting `share=True` (you can turn this off by setting `share=False` in `launch()` explicitly).\n",
            "\n",
            "Colab notebook detected. To show errors in colab notebook, set debug=True in launch()\n",
            "* Running on public URL: https://a7d105068527c123ff.gradio.live\n",
            "\n",
            "This share link expires in 1 week. For free permanent hosting and GPU upgrades, run `gradio deploy` from the terminal in the working directory to deploy to Hugging Face Spaces (https://huggingface.co/spaces)\n"
          ]
        },
        {
          "output_type": "display_data",
          "data": {
            "text/plain": [
              "<IPython.core.display.HTML object>"
            ],
            "text/html": [
              "<div><iframe src=\"https://a7d105068527c123ff.gradio.live\" width=\"100%\" height=\"500\" allow=\"autoplay; camera; microphone; clipboard-read; clipboard-write;\" frameborder=\"0\" allowfullscreen></iframe></div>"
            ]
          },
          "metadata": {}
        },
        {
          "output_type": "execute_result",
          "data": {
            "text/plain": []
          },
          "metadata": {},
          "execution_count": 11
        }
      ]
    },
    {
      "cell_type": "code",
      "source": [
        "import datetime\n",
        "import pandas as pd\n",
        "import gspread\n",
        "import gradio as gr\n",
        "from google.oauth2.service_account import Credentials\n",
        "from reportlab.platypus import SimpleDocTemplate, Table, TableStyle, Paragraph, Spacer\n",
        "from reportlab.lib.pagesizes import A4\n",
        "from reportlab.lib import colors\n",
        "from reportlab.lib.styles import getSampleStyleSheet, ParagraphStyle\n",
        "from reportlab.pdfbase import pdfmetrics\n",
        "from reportlab.pdfbase.ttfonts import TTFont\n",
        "from reportlab.lib.units import inch\n",
        "import os\n",
        "import tempfile\n",
        "import platform\n",
        "\n",
        "# ====== 字體設定 ======\n",
        "def download_chinese_font():\n",
        "    \"\"\"下載免費中文字體 - 改良版\"\"\"\n",
        "    import urllib.request\n",
        "    import ssl\n",
        "\n",
        "    font_dir = \"fonts\"\n",
        "    font_file = \"NotoSansTC-Regular.ttf\"\n",
        "    font_path = os.path.join(font_dir, font_file)\n",
        "\n",
        "    # 如果字體已存在，直接使用\n",
        "    if os.path.exists(font_path):\n",
        "        print(f\"✅ 發現已下載的字體: {font_path}\")\n",
        "        return font_path\n",
        "\n",
        "    # 創建字體目錄\n",
        "    os.makedirs(font_dir, exist_ok=True)\n",
        "\n",
        "    # 多個字體下載來源，按優先順序嘗試\n",
        "    font_sources = [\n",
        "        {\n",
        "            \"url\": \"https://github.com/notofonts/noto-cjk/raw/main/Sans/Variable/TTF/NotoSansTC-VF.ttf\",\n",
        "            \"name\": \"思源黑體變體 (小檔案)\"\n",
        "        },\n",
        "        {\n",
        "            \"url\": \"https://fonts.gstatic.com/s/notosanstc/v35/-nFuOG829Oofr2wohFbTp9ifNAn722rq0MXz76Cy_CpOtma3uNQ.ttf\",\n",
        "            \"name\": \"Google Fonts 思源黑體\"\n",
        "        },\n",
        "        {\n",
        "            \"url\": \"https://github.com/adobe-fonts/source-han-sans/releases/download/2.004R/SourceHanSansTC-Normal.otf\",\n",
        "            \"name\": \"Adobe 思源黑體\"\n",
        "        }\n",
        "    ]\n",
        "\n",
        "    # 設定 SSL 上下文以避免證書問題\n",
        "    try:\n",
        "        ssl_context = ssl.create_default_context()\n",
        "        ssl_context.check_hostname = False\n",
        "        ssl_context.verify_mode = ssl.CERT_NONE\n",
        "    except:\n",
        "        ssl_context = None\n",
        "\n",
        "    # 嘗試從每個來源下載\n",
        "    for i, source in enumerate(font_sources):\n",
        "        try:\n",
        "            print(f\"正在下載中文字體 ({i+1}/{len(font_sources)}): {source['name']}...\")\n",
        "\n",
        "            if ssl_context:\n",
        "                opener = urllib.request.build_opener(urllib.request.HTTPSHandler(context=ssl_context))\n",
        "                urllib.request.install_opener(opener)\n",
        "\n",
        "            # 下載字體\n",
        "            urllib.request.urlretrieve(source[\"url\"], font_path)\n",
        "\n",
        "            # 驗證下載的文件\n",
        "            if os.path.exists(font_path) and os.path.getsize(font_path) > 1000:  # 至少1KB\n",
        "                print(f\"✅ 成功下載中文字體: {source['name']}\")\n",
        "                return font_path\n",
        "            else:\n",
        "                print(f\"❌ 下載的字體文件無效: {source['name']}\")\n",
        "                if os.path.exists(font_path):\n",
        "                    os.remove(font_path)\n",
        "\n",
        "        except Exception as e:\n",
        "            print(f\"❌ 下載失敗 {source['name']}: {e}\")\n",
        "            if os.path.exists(font_path):\n",
        "                os.remove(font_path)\n",
        "            continue\n",
        "\n",
        "    print(\"❌ 所有字體下載來源都失敗了\")\n",
        "    return None\n",
        "\n",
        "def setup_chinese_font():\n",
        "    \"\"\"設定中文字體 - 改良版\"\"\"\n",
        "    try:\n",
        "        # 第1步：嘗試系統字體\n",
        "        system = platform.system()\n",
        "        system_fonts = []\n",
        "\n",
        "        if system == \"Windows\":\n",
        "            system_fonts = [\n",
        "                \"C:/Windows/Fonts/msjh.ttc\",      # 微軟正黑體\n",
        "                \"C:/Windows/Fonts/msyh.ttc\",      # 微軟雅黑\n",
        "                \"C:/Windows/Fonts/simsun.ttc\",    # 宋體\n",
        "                \"C:/Windows/Fonts/simhei.ttf\",    # 黑體\n",
        "            ]\n",
        "        elif system == \"Darwin\":  # macOS\n",
        "            system_fonts = [\n",
        "                \"/System/Library/Fonts/PingFang.ttc\",\n",
        "                \"/System/Library/Fonts/STHeiti Light.ttc\",\n",
        "                \"/Library/Fonts/Arial Unicode MS.ttf\",\n",
        "            ]\n",
        "        else:  # Linux\n",
        "            system_fonts = [\n",
        "                \"/usr/share/fonts/truetype/droid/DroidSansFallbackFull.ttf\",\n",
        "                \"/usr/share/fonts/truetype/wqy/wqy-microhei.ttc\",\n",
        "                \"/usr/share/fonts/opentype/noto/NotoSansCJK-Regular.ttc\",\n",
        "            ]\n",
        "\n",
        "        # 嘗試系統字體\n",
        "        for font_path in system_fonts:\n",
        "            if os.path.exists(font_path):\n",
        "                try:\n",
        "                    pdfmetrics.registerFont(TTFont('ChineseFont', font_path))\n",
        "                    print(f\"✅ 使用系統字體: {os.path.basename(font_path)}\")\n",
        "                    return 'ChineseFont'\n",
        "                except Exception as e:\n",
        "                    continue\n",
        "\n",
        "        # 第2步：嘗試本地已下載的字體\n",
        "        local_fonts = [\n",
        "            \"fonts/NotoSansTC-Regular.ttf\",\n",
        "            \"NotoSansTC-Regular.ttf\",\n",
        "            \"fonts/SourceHanSansTC-Normal.otf\",\n",
        "            \"SourceHanSansTC-Normal.otf\"\n",
        "        ]\n",
        "\n",
        "        for font_path in local_fonts:\n",
        "            if os.path.exists(font_path):\n",
        "                try:\n",
        "                    pdfmetrics.registerFont(TTFont('ChineseFont', font_path))\n",
        "                    print(f\"✅ 使用本地字體: {font_path}\")\n",
        "                    return 'ChineseFont'\n",
        "                except Exception as e:\n",
        "                    continue\n",
        "\n",
        "        # 第3步：自動下載字體\n",
        "        print(\"🔄 系統中未找到中文字體，開始自動下載...\")\n",
        "        downloaded_font = download_chinese_font()\n",
        "\n",
        "        if downloaded_font and os.path.exists(downloaded_font):\n",
        "            try:\n",
        "                pdfmetrics.registerFont(TTFont('ChineseFont', downloaded_font))\n",
        "                print(\"✅ 成功使用下載的中文字體\")\n",
        "                return 'ChineseFont'\n",
        "            except Exception as e:\n",
        "                print(f\"❌ 字體註冊失敗: {e}\")\n",
        "\n",
        "        # 第4步：最後備案\n",
        "        print(\"⚠️  無法設定中文字體，使用英文字體\")\n",
        "        return 'Helvetica'\n",
        "\n",
        "    except Exception as e:\n",
        "        print(f\"❌ 字體設定錯誤: {e}\")\n",
        "        return 'Helvetica'\n",
        "\n",
        "# 初始化字體\n",
        "CHINESE_FONT = setup_chinese_font()\n",
        "\n",
        "# ====== Google Sheets 設定 ======\n",
        "# ⚠️ 這裡假設你已經建立好 gspread 的 client 物件 (gc)\n",
        "gsheets = gc.open_by_url(\n",
        "    \"https://docs.google.com/spreadsheets/d/103O9aaTYbXgvXsy4fbkxUm8IQl6ea1CI-WG9gheyN7A/edit?usp=sharing\"\n",
        ")\n",
        "worksheet = gsheets.sheet1\n",
        "\n",
        "\n",
        "# ====== 核心邏輯 ======\n",
        "def add_record(name, event, date_str, time_str):\n",
        "    try:\n",
        "        date_obj = datetime.datetime.strptime(date_str, \"%Y-%m-%d\").date()\n",
        "        time_obj = datetime.datetime.strptime(time_str, \"%H:%M\").time()\n",
        "\n",
        "        new_row = pd.DataFrame([{\n",
        "            \"姓名\": name,\n",
        "            \"參加場次\": event,\n",
        "            \"日期\": str(date_obj),\n",
        "            \"時間\": str(time_obj)\n",
        "        }])\n",
        "\n",
        "        existing = worksheet.get_all_records()\n",
        "        df = pd.DataFrame(existing)\n",
        "\n",
        "        if df.empty:\n",
        "            df = new_row\n",
        "        else:\n",
        "            df = pd.concat([df, new_row], ignore_index=True)\n",
        "\n",
        "        worksheet.clear()\n",
        "        worksheet.update([df.columns.values.tolist()] + df.values.tolist())\n",
        "\n",
        "        return \"✅ 已成功將您的資料新增到 Google 試算表！\"\n",
        "    except ValueError:\n",
        "        return \"❌ 日期或時間格式錯誤，請輸入 YYYY-MM-DD 與 HH:MM\"\n",
        "\n",
        "\n",
        "def read_all():\n",
        "    \"\"\"讀取全部資料\"\"\"\n",
        "    data = worksheet.get_all_records()\n",
        "    if not data:\n",
        "        return pd.DataFrame(columns=[\"姓名\", \"參加場次\", \"日期\", \"時間\"])\n",
        "    return pd.DataFrame(data)\n",
        "\n",
        "\n",
        "def generate_pdf():\n",
        "    \"\"\"生成 PDF 並返回文件路徑\"\"\"\n",
        "    try:\n",
        "        # 讀取資料\n",
        "        df = read_all()\n",
        "\n",
        "        if df.empty:\n",
        "            return None, \"❌ 沒有資料可以匯出\"\n",
        "\n",
        "        # 創建臨時文件\n",
        "        temp_file = tempfile.NamedTemporaryFile(delete=False, suffix='.pdf')\n",
        "        pdf_path = temp_file.name\n",
        "        temp_file.close()\n",
        "\n",
        "        # 創建 PDF 文檔\n",
        "        doc = SimpleDocTemplate(pdf_path, pagesize=A4)\n",
        "        elements = []\n",
        "\n",
        "        # 設定樣式（使用中文字體）\n",
        "        styles = getSampleStyleSheet()\n",
        "        title_style = ParagraphStyle(\n",
        "            'CustomTitle',\n",
        "            parent=styles['Heading1'],\n",
        "            fontName=CHINESE_FONT,\n",
        "            fontSize=18,\n",
        "            alignment=1,  # 置中\n",
        "            spaceAfter=30\n",
        "        )\n",
        "\n",
        "        normal_style = ParagraphStyle(\n",
        "            'CustomNormal',\n",
        "            parent=styles['Normal'],\n",
        "            fontName=CHINESE_FONT,\n",
        "            fontSize=12\n",
        "        )\n",
        "\n",
        "        # 添加標題\n",
        "        title = Paragraph(\"報名登記資料表\", title_style)\n",
        "        elements.append(title)\n",
        "\n",
        "        # 添加生成時間\n",
        "        current_time = datetime.datetime.now().strftime(\"%Y-%m-%d %H:%M:%S\")\n",
        "        time_info = Paragraph(f\"生成時間：{current_time}\", normal_style)\n",
        "        elements.append(time_info)\n",
        "        elements.append(Spacer(1, 20))\n",
        "\n",
        "        # 準備表格資料\n",
        "        table_data = [df.columns.tolist()]  # 表頭\n",
        "        for _, row in df.iterrows():\n",
        "            table_data.append(row.tolist())\n",
        "\n",
        "        # 創建表格\n",
        "        table = Table(table_data)\n",
        "\n",
        "        # 設定表格樣式（使用中文字體）\n",
        "        table.setStyle(TableStyle([\n",
        "            # 表頭樣式\n",
        "            ('BACKGROUND', (0, 0), (-1, 0), colors.grey),\n",
        "            ('TEXTCOLOR', (0, 0), (-1, 0), colors.whitesmoke),\n",
        "            ('ALIGN', (0, 0), (-1, -1), 'CENTER'),\n",
        "            ('FONTNAME', (0, 0), (-1, 0), CHINESE_FONT),\n",
        "            ('FONTSIZE', (0, 0), (-1, 0), 12),\n",
        "\n",
        "            # 資料行樣式\n",
        "            ('BACKGROUND', (0, 1), (-1, -1), colors.beige),\n",
        "            ('TEXTCOLOR', (0, 1), (-1, -1), colors.black),\n",
        "            ('FONTNAME', (0, 1), (-1, -1), CHINESE_FONT),\n",
        "            ('FONTSIZE', (0, 1), (-1, -1), 10),\n",
        "\n",
        "            # 格線\n",
        "            ('GRID', (0, 0), (-1, -1), 1, colors.black),\n",
        "\n",
        "            # 行間距\n",
        "            ('VALIGN', (0, 0), (-1, -1), 'MIDDLE'),\n",
        "            ('ROWBACKGROUNDS', (0, 1), (-1, -1), [colors.white, colors.lightgrey])\n",
        "        ]))\n",
        "\n",
        "        elements.append(table)\n",
        "\n",
        "        # 添加頁腳資訊\n",
        "        elements.append(Spacer(1, 30))\n",
        "        footer_info = Paragraph(f\"總計：{len(df)} 筆資料\", normal_style)\n",
        "        elements.append(footer_info)\n",
        "\n",
        "        # 生成 PDF\n",
        "        doc.build(elements)\n",
        "\n",
        "        return pdf_path, f\"✅ PDF 已成功生成，共 {len(df)} 筆資料\"\n",
        "\n",
        "    except Exception as e:\n",
        "        return None, f\"❌ PDF 生成失敗：{str(e)}\"\n",
        "\n",
        "\n",
        "# ====== Gradio 介面 ======\n",
        "with gr.Blocks(title=\"報名登記系統\") as demo:\n",
        "    gr.Markdown(\"## 📝 報名登記系統\")\n",
        "\n",
        "    with gr.Tab(\"新增報名\"):\n",
        "        with gr.Row():\n",
        "            name = gr.Textbox(label=\"姓名\", placeholder=\"請輸入姓名\")\n",
        "            event = gr.Textbox(label=\"參加場次\", placeholder=\"請輸入場次名稱\")\n",
        "        with gr.Row():\n",
        "            date_str = gr.Textbox(label=\"日期 (YYYY-MM-DD)\", placeholder=\"例：2024-01-15\")\n",
        "            time_str = gr.Textbox(label=\"時間 (HH:MM)\", placeholder=\"例：14:30\")\n",
        "\n",
        "        submit_btn = gr.Button(\"✅ 送出\", variant=\"primary\")\n",
        "        result = gr.Textbox(label=\"結果\", interactive=False)\n",
        "\n",
        "    with gr.Tab(\"查看資料\"):\n",
        "        read_btn = gr.Button(\"📄 重新載入資料\", variant=\"secondary\")\n",
        "        table_out = gr.Dataframe(label=\"目前資料\", interactive=False)\n",
        "\n",
        "        gr.Markdown(\"### 📥 匯出功能\")\n",
        "        with gr.Row():\n",
        "            pdf_btn = gr.Button(\"📄 生成 PDF\", variant=\"secondary\")\n",
        "            pdf_status = gr.Textbox(label=\"PDF 生成狀態\", interactive=False)\n",
        "\n",
        "        pdf_file = gr.File(label=\"下載 PDF\", visible=False)\n",
        "\n",
        "    # 定義PDF生成的處理函數\n",
        "    def handle_pdf_generation():\n",
        "        pdf_path, status = generate_pdf()\n",
        "        if pdf_path:\n",
        "            return status, gr.File(value=pdf_path, visible=True)\n",
        "        else:\n",
        "            return status, gr.File(visible=False)\n",
        "\n",
        "    # 事件綁定\n",
        "    submit_btn.click(\n",
        "        add_record,\n",
        "        inputs=[name, event, date_str, time_str],\n",
        "        outputs=result\n",
        "    )\n",
        "\n",
        "    read_btn.click(read_all, outputs=table_out)\n",
        "\n",
        "    pdf_btn.click(\n",
        "        handle_pdf_generation,\n",
        "        outputs=[pdf_status, pdf_file]\n",
        "    )\n",
        "\n",
        "    # 頁面載入時自動讀取資料\n",
        "    demo.load(read_all, outputs=table_out)\n",
        "\n",
        "if __name__ == \"__main__\":\n",
        "    demo.launch()"
      ],
      "metadata": {
        "id": "97WbqP06onKG",
        "outputId": "b9756196-23ea-433d-d996-cbbee2c6cfa6",
        "colab": {
          "base_uri": "https://localhost:8080/",
          "height": 730
        }
      },
      "execution_count": 23,
      "outputs": [
        {
          "output_type": "stream",
          "name": "stdout",
          "text": [
            "🔄 系統中未找到中文字體，開始自動下載...\n",
            "正在下載中文字體 (1/3): 思源黑體變體 (小檔案)...\n",
            "❌ 下載失敗 思源黑體變體 (小檔案): HTTP Error 404: Not Found\n",
            "正在下載中文字體 (2/3): Google Fonts 思源黑體...\n",
            "✅ 成功下載中文字體: Google Fonts 思源黑體\n",
            "✅ 成功使用下載的中文字體\n",
            "It looks like you are running Gradio on a hosted Jupyter notebook, which requires `share=True`. Automatically setting `share=True` (you can turn this off by setting `share=False` in `launch()` explicitly).\n",
            "\n",
            "Colab notebook detected. To show errors in colab notebook, set debug=True in launch()\n",
            "* Running on public URL: https://f582ed3557b991ff44.gradio.live\n",
            "\n",
            "This share link expires in 1 week. For free permanent hosting and GPU upgrades, run `gradio deploy` from the terminal in the working directory to deploy to Hugging Face Spaces (https://huggingface.co/spaces)\n"
          ]
        },
        {
          "output_type": "display_data",
          "data": {
            "text/plain": [
              "<IPython.core.display.HTML object>"
            ],
            "text/html": [
              "<div><iframe src=\"https://f582ed3557b991ff44.gradio.live\" width=\"100%\" height=\"500\" allow=\"autoplay; camera; microphone; clipboard-read; clipboard-write;\" frameborder=\"0\" allowfullscreen></iframe></div>"
            ]
          },
          "metadata": {}
        }
      ]
    }
  ]
}